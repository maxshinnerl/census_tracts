{
 "cells": [
  {
   "cell_type": "code",
   "execution_count": 1,
   "id": "opened-crisis",
   "metadata": {},
   "outputs": [],
   "source": [
    "reset -f"
   ]
  },
  {
   "cell_type": "code",
   "execution_count": 2,
   "id": "municipal-presence",
   "metadata": {},
   "outputs": [],
   "source": [
    "import geopandas as gpd\n",
    "import pandas as pd\n",
    "import matplotlib.pyplot as plt\n",
    "import matplotlib.colors\n",
    "from ipyleaflet import Map, GeoData, basemaps, LayersControl, Marker, Popup\n",
    "#import json\n",
    "import ipywidgets as ipyw"
   ]
  },
  {
   "cell_type": "code",
   "execution_count": 3,
   "id": "dense-orlando",
   "metadata": {},
   "outputs": [],
   "source": [
    "gdf = gpd.read_file('data/cb_2019_06_tract_500k/cb_2019_06_tract_500k.shp')"
   ]
  },
  {
   "cell_type": "code",
   "execution_count": 4,
   "id": "lasting-yellow",
   "metadata": {},
   "outputs": [],
   "source": [
    "# get screwed (replace with real metrics later)\n",
    "screwed_dummy = gdf.sample(740)"
   ]
  },
  {
   "cell_type": "code",
   "execution_count": 5,
   "id": "dangerous-painting",
   "metadata": {},
   "outputs": [
    {
     "name": "stdout",
     "output_type": "stream",
     "text": [
      "\n"
     ]
    }
   ],
   "source": [
    "def add_screwed(row):\n",
    "    if row['GEOID'] in list(screwed_dummy['GEOID']):\n",
    "        val = 1\n",
    "    else:\n",
    "        val = 0\n",
    "    return(val)\n",
    "\n",
    "\"\"\"\n",
    "def add_color(row):\n",
    "    if row['screwed'] == 1:\n",
    "        val = '#34eb4f'\n",
    "    else:\n",
    "        val = '#eb7a34'\n",
    "    return(val)\n",
    "\"\"\"\n",
    "print()"
   ]
  },
  {
   "cell_type": "code",
   "execution_count": 6,
   "id": "obvious-utilization",
   "metadata": {},
   "outputs": [],
   "source": [
    "gdf['screwed'] = gdf.apply(add_screwed, axis=1)\n",
    "# gdf['color'] = gdf.apply(add_color, axis=1)"
   ]
  },
  {
   "cell_type": "code",
   "execution_count": 7,
   "id": "compatible-farmer",
   "metadata": {},
   "outputs": [],
   "source": [
    "# split dataframes into nonscrewed and screwed\n",
    "gdf_screwed = gdf[gdf['screwed'] == 1]\n",
    "gdf_therest = gdf[gdf['screwed'] == 0]\n",
    "# print((len(gdf)) == (len(gdf_therest) + (len(gdf_screwed))))"
   ]
  },
  {
   "cell_type": "code",
   "execution_count": 8,
   "id": "aboriginal-plane",
   "metadata": {},
   "outputs": [],
   "source": [
    "# prepping map\n",
    "zoom = 6\n",
    "center = [37.248, -119.432]"
   ]
  },
  {
   "cell_type": "code",
   "execution_count": 9,
   "id": "latter-accident",
   "metadata": {},
   "outputs": [],
   "source": [
    "# prepping layers for map\n",
    "ct_therest = GeoData(geo_dataframe = gdf_therest,\n",
    "                  style={'color': 'black', 'fillColor': '#34eb4f', 'opacity':0.05, 'weight':1.9, 'dashArray':'2', 'fillOpacity':0.6},\n",
    "                  hover_style={'fillColor': 'red' , 'fillOpacity': 0.2},\n",
    "                  name = 'GEOID'\n",
    "                 )\n",
    "ct_screwed = GeoData(geo_dataframe = gdf_screwed,\n",
    "                  style={'color': 'black', 'fillColor': '#eb7a34', 'opacity':0.05, 'weight':1.9, 'dashArray':'2', 'fillOpacity':0.6},\n",
    "                  hover_style={'fillColor': 'red' , 'fillOpacity': 0.2},\n",
    "                  name = 'GEOID'\n",
    "                 )"
   ]
  },
  {
   "cell_type": "code",
   "execution_count": 10,
   "id": "subsequent-thanks",
   "metadata": {},
   "outputs": [
    {
     "data": {
      "text/plain": [
       "'\\nmessage = ipyw.HTML()\\nmessage.value = \"braindead\"\\nmessage.description = \"html?\"\\n'"
      ]
     },
     "execution_count": 10,
     "metadata": {},
     "output_type": "execute_result"
    }
   ],
   "source": [
    "\"\"\"\n",
    "message = ipyw.HTML()\n",
    "message.value = \"braindead\"\n",
    "message.description = \"html?\"\n",
    "\"\"\""
   ]
  },
  {
   "cell_type": "code",
   "execution_count": 11,
   "id": "sophisticated-flesh",
   "metadata": {},
   "outputs": [],
   "source": [
    "# dir(ct_therest.popup)"
   ]
  },
  {
   "cell_type": "code",
   "execution_count": 12,
   "id": "hearing-french",
   "metadata": {},
   "outputs": [],
   "source": [
    "m = Map(basemap=basemaps.OpenStreetMap.Mapnik, center=center, zoom=zoom)\n",
    "\n",
    "# add the layers\n",
    "m.add_layer(ct_therest)\n",
    "m.add_layer(ct_screwed)\n",
    "\n",
    "#ct_screwed.popup = message"
   ]
  },
  {
   "cell_type": "markdown",
   "id": "associate-monaco",
   "metadata": {},
   "source": [
    "## Note: 'screwed' census tracts are selected randomly here for testing purposes."
   ]
  },
  {
   "cell_type": "code",
   "execution_count": 13,
   "id": "handed-bulgaria",
   "metadata": {},
   "outputs": [
    {
     "data": {
      "application/vnd.jupyter.widget-view+json": {
       "model_id": "6c9f13a261e54f908aded1e4d40aef2f",
       "version_major": 2,
       "version_minor": 0
      },
      "text/plain": [
       "Map(center=[37.248, -119.432], controls=(ZoomControl(options=['position', 'zoom_in_text', 'zoom_in_title', 'zo…"
      ]
     },
     "metadata": {},
     "output_type": "display_data"
    }
   ],
   "source": [
    "display(m)"
   ]
  },
  {
   "cell_type": "code",
   "execution_count": null,
   "id": "choice-output",
   "metadata": {},
   "outputs": [],
   "source": []
  }
 ],
 "metadata": {
  "kernelspec": {
   "display_name": "Python 3",
   "language": "python",
   "name": "python3"
  },
  "language_info": {
   "codemirror_mode": {
    "name": "ipython",
    "version": 3
   },
   "file_extension": ".py",
   "mimetype": "text/x-python",
   "name": "python",
   "nbconvert_exporter": "python",
   "pygments_lexer": "ipython3",
   "version": "3.8.6"
  }
 },
 "nbformat": 4,
 "nbformat_minor": 5
}
