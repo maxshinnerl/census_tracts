{
 "cells": [
  {
   "cell_type": "code",
   "execution_count": 1,
   "metadata": {},
   "outputs": [],
   "source": [
    "reset -f"
   ]
  },
  {
   "cell_type": "code",
   "execution_count": 2,
   "metadata": {},
   "outputs": [],
   "source": [
    "import geopandas as gpd\n",
    "import pandas as pd\n",
    "import matplotlib.pyplot as plt\n",
    "import matplotlib.colors\n",
    "from ipyleaflet import Map, GeoData, basemaps, LayersControl, Marker, Popup, FullScreenControl\n",
    "#import json\n",
    "import ipywidgets as ipyw"
   ]
  },
  {
   "cell_type": "code",
   "execution_count": 3,
   "metadata": {},
   "outputs": [],
   "source": [
    "gdf = gpd.read_file('data/cb_2019_06_tract_500k/cb_2019_06_tract_500k.shp')"
   ]
  },
  {
   "cell_type": "code",
   "execution_count": 4,
   "metadata": {},
   "outputs": [],
   "source": [
    "# get screwed (replace with real metrics later)\n",
    "screwed_dummy = gdf.sample(740)"
   ]
  },
  {
   "cell_type": "code",
   "execution_count": 5,
   "metadata": {},
   "outputs": [],
   "source": [
    "def add_screwed(row):\n",
    "    if row['GEOID'] in list(screwed_dummy['GEOID']):\n",
    "        val = 1\n",
    "    else:\n",
    "        val = 0\n",
    "    return(val)\n",
    "\n",
    "\n",
    "def add_color(row):\n",
    "    if row['screwed'] == 1:\n",
    "        val = '#34eb4f'\n",
    "    else:\n",
    "        val = '#eb7a34'\n",
    "    return(val)\n"
   ]
  },
  {
   "cell_type": "code",
   "execution_count": 6,
   "metadata": {},
   "outputs": [],
   "source": [
    "gdf['screwed'] = gdf.apply(add_screwed, axis=1)\n",
    "# gdf['color'] = gdf.apply(add_color, axis=1)"
   ]
  },
  {
   "cell_type": "code",
   "execution_count": 7,
   "metadata": {},
   "outputs": [],
   "source": [
    "# split dataframes into nonscrewed and screwed\n",
    "gdf_screwed = gdf[gdf['screwed'] == 1]\n",
    "gdf_therest = gdf[gdf['screwed'] == 0]\n",
    "# print((len(gdf)) == (len(gdf_therest) + (len(gdf_screwed))))"
   ]
  },
  {
   "cell_type": "code",
   "execution_count": 8,
   "metadata": {},
   "outputs": [],
   "source": [
    "# prepping map\n",
    "zoom = 6\n",
    "center = [37.248, -119.432]"
   ]
  },
  {
   "cell_type": "code",
   "execution_count": 9,
   "metadata": {},
   "outputs": [],
   "source": [
    "# prepping layers for map\n",
    "ct_therest = GeoData(geo_dataframe = gdf_therest,\n",
    "                  style={'color': 'black', 'fillColor': '#34eb4f', 'opacity':0.05, 'weight':1.9, 'dashArray':'2', 'fillOpacity':0.6},\n",
    "                  hover_style={'fillColor': 'red' , 'fillOpacity': 0.2},\n",
    "                  name = 'GEOID'\n",
    "                 )\n",
    "ct_screwed = GeoData(geo_dataframe = gdf_screwed,\n",
    "                  style={'color': 'black', 'fillColor': '#eb7a34', 'opacity':0.05, 'weight':1.9, 'dashArray':'2', 'fillOpacity':0.6},\n",
    "                  hover_style={'fillColor': 'red' , 'fillOpacity': 0.2},\n",
    "                  name = 'GEOID'\n",
    "                 )"
   ]
  },
  {
   "cell_type": "code",
   "execution_count": 10,
   "metadata": {},
   "outputs": [],
   "source": [
    "# dir(ct_therest.popup)"
   ]
  },
  {
   "cell_type": "code",
   "execution_count": 11,
   "metadata": {},
   "outputs": [],
   "source": [
    "m = Map(basemap=basemaps.OpenStreetMap.Mapnik, center=center, zoom=zoom)\n",
    "\n",
    "# add the layers\n",
    "m.add_layer(ct_therest)\n",
    "m.add_layer(ct_screwed)\n",
    "\n",
    "m.add_control(FullScreenControl())\n",
    "\n",
    "#ct_screwed.popup = message"
   ]
  },
  {
   "cell_type": "markdown",
   "metadata": {},
   "source": [
    "## Note: orange census tracts are selected randomly here for testing purposes.\n",
    "\n",
    "#### Also, map takes a few seconds to load"
   ]
  },
  {
   "cell_type": "code",
   "execution_count": 12,
   "metadata": {},
   "outputs": [
    {
     "data": {
      "application/vnd.jupyter.widget-view+json": {
       "model_id": "179e5deebdcf4a19ad356a21a811401b",
       "version_major": 2,
       "version_minor": 0
      },
      "text/plain": [
       "Map(center=[37.248, -119.432], controls=(ZoomControl(options=['position', 'zoom_in_text', 'zoom_in_title', 'zo…"
      ]
     },
     "metadata": {},
     "output_type": "display_data"
    }
   ],
   "source": [
    "display(m)"
   ]
  },
  {
   "cell_type": "code",
   "execution_count": 13,
   "metadata": {},
   "outputs": [],
   "source": [
    "# now let's try zipcodes\n",
    "gdf_zc = gpd.read_file('data/cb_2019_us_zcta510_500k/')"
   ]
  },
  {
   "cell_type": "code",
   "execution_count": 14,
   "metadata": {},
   "outputs": [],
   "source": [
    "zipcode_list = pd.read_csv('data/zip-code-list.csv')"
   ]
  },
  {
   "cell_type": "code",
   "execution_count": 15,
   "metadata": {},
   "outputs": [],
   "source": [
    "gdf_zc['ZCTA5CE10'] = gdf_zc['ZCTA5CE10'].astype(int)"
   ]
  },
  {
   "cell_type": "code",
   "execution_count": 16,
   "metadata": {},
   "outputs": [],
   "source": [
    "df_zc_ca = pd.merge(zipcode_list, gdf_zc, how='left', left_on='zip_code', right_on='ZCTA5CE10')"
   ]
  },
  {
   "cell_type": "code",
   "execution_count": 17,
   "metadata": {},
   "outputs": [
    {
     "data": {
      "text/plain": [
       "2664"
      ]
     },
     "execution_count": 17,
     "metadata": {},
     "output_type": "execute_result"
    }
   ],
   "source": [
    "len(df_zc_ca)"
   ]
  },
  {
   "cell_type": "code",
   "execution_count": 18,
   "metadata": {},
   "outputs": [
    {
     "data": {
      "text/plain": [
       "2664"
      ]
     },
     "execution_count": 18,
     "metadata": {},
     "output_type": "execute_result"
    }
   ],
   "source": [
    "len(zipcode_list)"
   ]
  },
  {
   "cell_type": "code",
   "execution_count": 19,
   "metadata": {},
   "outputs": [
    {
     "data": {
      "text/html": [
       "<div>\n",
       "<style scoped>\n",
       "    .dataframe tbody tr th:only-of-type {\n",
       "        vertical-align: middle;\n",
       "    }\n",
       "\n",
       "    .dataframe tbody tr th {\n",
       "        vertical-align: top;\n",
       "    }\n",
       "\n",
       "    .dataframe thead th {\n",
       "        text-align: right;\n",
       "    }\n",
       "</style>\n",
       "<table border=\"1\" class=\"dataframe\">\n",
       "  <thead>\n",
       "    <tr style=\"text-align: right;\">\n",
       "      <th></th>\n",
       "      <th>zip_code</th>\n",
       "      <th>ZCTA5CE10</th>\n",
       "      <th>AFFGEOID10</th>\n",
       "      <th>GEOID10</th>\n",
       "      <th>ALAND10</th>\n",
       "      <th>AWATER10</th>\n",
       "      <th>geometry</th>\n",
       "    </tr>\n",
       "  </thead>\n",
       "  <tbody>\n",
       "    <tr>\n",
       "      <th>0</th>\n",
       "      <td>90001</td>\n",
       "      <td>90001.0</td>\n",
       "      <td>8600000US90001</td>\n",
       "      <td>90001</td>\n",
       "      <td>9071081.0</td>\n",
       "      <td>0.0</td>\n",
       "      <td>POLYGON ((-118.26519 33.98923, -118.25644 33.9...</td>\n",
       "    </tr>\n",
       "    <tr>\n",
       "      <th>1</th>\n",
       "      <td>90002</td>\n",
       "      <td>90002.0</td>\n",
       "      <td>8600000US90002</td>\n",
       "      <td>90002</td>\n",
       "      <td>7930602.0</td>\n",
       "      <td>0.0</td>\n",
       "      <td>POLYGON ((-118.26512 33.96013, -118.25858 33.9...</td>\n",
       "    </tr>\n",
       "  </tbody>\n",
       "</table>\n",
       "</div>"
      ],
      "text/plain": [
       "   zip_code  ZCTA5CE10      AFFGEOID10 GEOID10    ALAND10  AWATER10  \\\n",
       "0     90001    90001.0  8600000US90001   90001  9071081.0       0.0   \n",
       "1     90002    90002.0  8600000US90002   90002  7930602.0       0.0   \n",
       "\n",
       "                                            geometry  \n",
       "0  POLYGON ((-118.26519 33.98923, -118.25644 33.9...  \n",
       "1  POLYGON ((-118.26512 33.96013, -118.25858 33.9...  "
      ]
     },
     "execution_count": 19,
     "metadata": {},
     "output_type": "execute_result"
    }
   ],
   "source": [
    "df_zc_ca.head(2)"
   ]
  },
  {
   "cell_type": "code",
   "execution_count": 20,
   "metadata": {},
   "outputs": [],
   "source": [
    "gdf_zc_ca = gpd.GeoDataFrame(df_zc_ca, crs=\"EPSG:4326\", geometry='geometry')"
   ]
  },
  {
   "cell_type": "code",
   "execution_count": 21,
   "metadata": {},
   "outputs": [
    {
     "data": {
      "application/vnd.jupyter.widget-view+json": {
       "model_id": "e03286b8c9b94c2e8fee32e14be43e30",
       "version_major": 2,
       "version_minor": 0
      },
      "text/plain": [
       "Map(center=[37.248, -119.432], controls=(ZoomControl(options=['position', 'zoom_in_text', 'zoom_in_title', 'zo…"
      ]
     },
     "metadata": {},
     "output_type": "display_data"
    }
   ],
   "source": [
    "# prepping layers for map\n",
    "ct_zips = GeoData(geo_dataframe = gdf_zc_ca,\n",
    "                  style={'color': 'black', 'fillColor': 'blue', 'opacity':0.05, 'weight':1.9, 'dashArray':'2', 'fillOpacity':0.6},\n",
    "                  hover_style={'fillColor': 'red' , 'fillOpacity': 0.2},\n",
    "                  name = 'GEOID'\n",
    "                 )\n",
    "\n",
    "m = Map(basemap=basemaps.OpenStreetMap.Mapnik, center=center, zoom=zoom)\n",
    "\n",
    "# add the layers\n",
    "m.add_layer(ct_zips)\n",
    "\n",
    "m.add_control(FullScreenControl())\n",
    "\n",
    "display(m)"
   ]
  },
  {
   "cell_type": "code",
   "execution_count": null,
   "metadata": {},
   "outputs": [],
   "source": []
  },
  {
   "cell_type": "code",
   "execution_count": null,
   "metadata": {},
   "outputs": [],
   "source": []
  }
 ],
 "metadata": {
  "kernelspec": {
   "display_name": "Python 3",
   "language": "python",
   "name": "python3"
  },
  "language_info": {
   "codemirror_mode": {
    "name": "ipython",
    "version": 3
   },
   "file_extension": ".py",
   "mimetype": "text/x-python",
   "name": "python",
   "nbconvert_exporter": "python",
   "pygments_lexer": "ipython3",
   "version": "3.8.5"
  }
 },
 "nbformat": 4,
 "nbformat_minor": 5
}
